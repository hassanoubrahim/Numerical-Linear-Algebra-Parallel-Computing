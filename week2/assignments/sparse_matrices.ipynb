{
 "cells": [
  {
   "cell_type": "markdown",
   "id": "aea03da3",
   "metadata": {},
   "source": [
    "In this assignement, feel free to use the `sparse` module from `scipy`."
   ]
  },
  {
   "cell_type": "markdown",
   "id": "2df42bcc",
   "metadata": {},
   "source": [
    "Use the cell below for your imports."
   ]
  },
  {
   "cell_type": "code",
   "execution_count": 51,
   "id": "e9644e55",
   "metadata": {},
   "outputs": [],
   "source": [
    "import numpy as np\n",
    "from scipy.sparse import coo_matrix\n",
    "from scipy.sparse import csr_matrix"
   ]
  },
  {
   "cell_type": "markdown",
   "id": "8948a816",
   "metadata": {},
   "source": [
    "implement the function `mat_mul_coo` that takes two sparse matrices in `coo` and returns their product."
   ]
  },
  {
   "cell_type": "code",
   "execution_count": 47,
   "id": "7e56309c",
   "metadata": {},
   "outputs": [],
   "source": [
    "def mat_mul_coo(A, B):\n",
    "    if A.shape[1] != B.shape[0]:\n",
    "        raise ValueError(\"Incompatible shapes: {} and {}\".format(A.shape, B.shape))\n",
    "    \n",
    "    # Initialize a dictionary to store the entries of the product matrix\n",
    "    product_dict = {}\n",
    "    \n",
    "    # Compute the product C = AB using the COO format\n",
    "    for i, j, a_val in zip(A.row, A.col, A.data):\n",
    "        for k, l, b_val in zip(B.row, B.col, B.data):\n",
    "            if j == k:\n",
    "                key = (i, l)\n",
    "                if key in product_dict:\n",
    "                    product_dict[key] += a_val * b_val\n",
    "                else:\n",
    "                    product_dict[key] = a_val * b_val\n",
    "    \n",
    "    # Construct the COO matrix from the computed data\n",
    "    rows_cols, data = zip(*product_dict.items())\n",
    "    rows = [rows_cols[0] for rows_cols in rows_cols]\n",
    "    cols = [rows_cols[1] for rows_cols in rows_cols]\n",
    "    C = coo_matrix((data, (rows, cols)), shape=(A.shape[0], B.shape[1]))\n",
    "    \n",
    "    return C"
   ]
  },
  {
   "cell_type": "code",
   "execution_count": 203,
   "id": "15e5bfbf",
   "metadata": {},
   "outputs": [],
   "source": [
    "a = [[1,3,0],[0,0,0],[1,0,13]]\n",
    "b = [[0,3,0],[2,2,2],[0,0,0]]\n",
    "A = coo_matrix(a)\n",
    "B = coo_matrix(b)"
   ]
  },
  {
   "cell_type": "code",
   "execution_count": 204,
   "id": "da1b4e0c",
   "metadata": {},
   "outputs": [
    {
     "name": "stdout",
     "output_type": "stream",
     "text": [
      "[[6 9 6]\n",
      " [0 0 0]\n",
      " [0 3 0]]\n"
     ]
    }
   ],
   "source": [
    "print(mat_mul_coo(A, B).toarray())"
   ]
  },
  {
   "cell_type": "markdown",
   "id": "e5ccb9f0",
   "metadata": {},
   "source": [
    "check the results."
   ]
  },
  {
   "cell_type": "code",
   "execution_count": 205,
   "id": "5a63251f",
   "metadata": {},
   "outputs": [
    {
     "data": {
      "text/plain": [
       "array([[6, 9, 6],\n",
       "       [0, 0, 0],\n",
       "       [0, 3, 0]])"
      ]
     },
     "execution_count": 205,
     "metadata": {},
     "output_type": "execute_result"
    }
   ],
   "source": [
    "np.dot(A.toarray(), B.toarray())"
   ]
  },
  {
   "cell_type": "markdown",
   "id": "4a626dec",
   "metadata": {},
   "source": [
    "implement the function `mat_mul_csr` that takes two sparse matrices in `csr` format and returns their product."
   ]
  },
  {
   "cell_type": "code",
   "execution_count": 173,
   "id": "71de01aa",
   "metadata": {},
   "outputs": [],
   "source": [
    "def mat_mul_csr(A, B):\n",
    "    # Compute the product using CSR format\n",
    "    C = csr_matrix((A.shape[0], B.shape[1]), dtype=A.dtype)\n",
    "    for i in range(A.shape[0]):\n",
    "        start = A.indptr[i]\n",
    "        end = A.indptr[i+1]\n",
    "        for j in range(start, end):\n",
    "            k = A.indices[j]\n",
    "            C[i, :] += A.data[j] * B[k, :]\n",
    "    return C\n"
   ]
  },
  {
   "cell_type": "code",
   "execution_count": 178,
   "id": "a1cd4e97",
   "metadata": {},
   "outputs": [],
   "source": [
    "a = csr_matrix([[1,3,0],[0,0,0],[1,0,13]])\n",
    "b = csr_matrix([[0,3,0],[2,2,2],[0,0,0]])"
   ]
  },
  {
   "cell_type": "code",
   "execution_count": 179,
   "id": "e098a18a",
   "metadata": {},
   "outputs": [
    {
     "name": "stdout",
     "output_type": "stream",
     "text": [
      "[[6 9 6]\n",
      " [0 0 0]\n",
      " [0 3 0]]\n"
     ]
    }
   ],
   "source": [
    "print(mat_mul_csr(a, b).toarray())"
   ]
  },
  {
   "cell_type": "markdown",
   "id": "9592a90b",
   "metadata": {},
   "source": [
    "implement a function `solve_lin_sys` that takes a matrix `A` in `csr` format and a vector `b` as a numpy array and solves the system `Ax = b`."
   ]
  },
  {
   "cell_type": "markdown",
   "id": "91874cfe",
   "metadata": {},
   "source": [
    "in this function we will use lu decomposition to solve the linear system "
   ]
  },
  {
   "cell_type": "code",
   "execution_count": 197,
   "id": "00edeb4c",
   "metadata": {},
   "outputs": [],
   "source": [
    "def solve_lin_sys(A_csr, b):\n",
    "    epsilon = 1e-10\n",
    "    # Perform LU decomposition of A\n",
    "    n = A_csr.shape[0]\n",
    "    L = np.zeros((n, n))\n",
    "    U = np.zeros((n, n))\n",
    "    \n",
    "    # Compute LU decomposition\n",
    "    for k in range(n):\n",
    "        U[k, k] = A_csr[k, k] - np.dot(L[k, :k], U[:k, k])\n",
    "        L[k, k] = 1.0\n",
    "        for i in range(k+1, n):\n",
    "            L[i, k] = (A_csr[i, k] - np.dot(L[i, :k], U[:k, k])) / (U[k, k] + epsilon)#to avoic deviding by zero\n",
    "            U[k, i] = A_csr[k, i] - np.dot(L[k, :k], U[:k, i])\n",
    "\n",
    "    # Solve L*y = b for y using forward substitution\n",
    "    y = np.zeros(n)\n",
    "    for i in range(n):\n",
    "        y[i] = b[i] - np.dot(L[i, :i], y[:i])\n",
    "    \n",
    "    # Solve U*x = y for x using backward substitution\n",
    "    x = np.zeros(n)\n",
    "    for i in reversed(range(n)):\n",
    "        x[i] = (y[i] - np.dot(U[i, i+1:], x[i+1:])) / (U[i, i]+epsilon) #to avoic deviding by zero\n",
    "    \n",
    "    # Return solution x\n",
    "    return x\n"
   ]
  },
  {
   "cell_type": "code",
   "execution_count": 198,
   "id": "d15e5c3f",
   "metadata": {},
   "outputs": [],
   "source": [
    "indptr = np.array([0, 2, 3, 6])\n",
    "indices = np.array([0, 2, 2, 0, 1, 2])\n",
    "data = np.array([1, 2, 3, 4, 5, 6])\n",
    "b = np.array([0,1,1])\n",
    "A = csr_matrix((data, indices, indptr), shape=(3, 3))"
   ]
  },
  {
   "cell_type": "code",
   "execution_count": 199,
   "id": "d5adfaa3",
   "metadata": {},
   "outputs": [
    {
     "name": "stdout",
     "output_type": "stream",
     "text": [
      "[-0.66666667  0.33333336  0.33333333]\n"
     ]
    }
   ],
   "source": [
    "print(solve_lin_sys(A, b))"
   ]
  },
  {
   "cell_type": "markdown",
   "id": "85459d68",
   "metadata": {},
   "source": [
    "check the solution "
   ]
  },
  {
   "cell_type": "code",
   "execution_count": 201,
   "id": "38cc02bf",
   "metadata": {},
   "outputs": [
    {
     "data": {
      "text/plain": [
       "array([-0.66666667,  0.33333333,  0.33333333])"
      ]
     },
     "execution_count": 201,
     "metadata": {},
     "output_type": "execute_result"
    }
   ],
   "source": [
    "np.linalg.solve(A.toarray(), b)"
   ]
  },
  {
   "cell_type": "code",
   "execution_count": null,
   "id": "9c65bcfe",
   "metadata": {},
   "outputs": [],
   "source": []
  }
 ],
 "metadata": {
  "kernelspec": {
   "display_name": "Python 3 (ipykernel)",
   "language": "python",
   "name": "python3"
  },
  "language_info": {
   "codemirror_mode": {
    "name": "ipython",
    "version": 3
   },
   "file_extension": ".py",
   "mimetype": "text/x-python",
   "name": "python",
   "nbconvert_exporter": "python",
   "pygments_lexer": "ipython3",
   "version": "3.8.10"
  }
 },
 "nbformat": 4,
 "nbformat_minor": 5
}
